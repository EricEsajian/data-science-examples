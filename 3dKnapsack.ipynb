{
  "nbformat": 4,
  "nbformat_minor": 0,
  "metadata": {
    "colab": {
      "name": "3dKnapsack.ipynb",
      "provenance": [],
      "include_colab_link": true
    },
    "kernelspec": {
      "display_name": "Python 3",
      "name": "python3"
    }
  },
  "cells": [
    {
      "cell_type": "markdown",
      "metadata": {
        "id": "view-in-github",
        "colab_type": "text"
      },
      "source": [
        "<a href=\"https://colab.research.google.com/github/EricEsajian/forecasting-models/blob/master/3dKnapsack.ipynb\" target=\"_parent\"><img src=\"https://colab.research.google.com/assets/colab-badge.svg\" alt=\"Open In Colab\"/></a>"
      ]
    },
    {
      "cell_type": "code",
      "metadata": {
        "colab": {
          "base_uri": "https://localhost:8080/"
        },
        "id": "kNXZvsHW5Od9",
        "outputId": "948dc683-26a0-4360-ec89-58a1ee41bc62"
      },
      "source": [
        "!pip install py3dbp\r\n",
        "!pip install ortools\r\n",
        "import numpy as np\r\n",
        "import pandas as pd\r\n",
        "from py3dbp import Packer, Bin, Item\r\n",
        "from tqdm import tqdm\r\n",
        "from pandas_profiling import ProfileReport\r\n",
        "from ortools.algorithms import pywrapknapsack_solver"
      ],
      "execution_count": null,
      "outputs": [
        {
          "output_type": "stream",
          "text": [
            "Requirement already satisfied: py3dbp in /usr/local/lib/python3.6/dist-packages (1.1.2)\n",
            "Requirement already satisfied: ortools in /usr/local/lib/python3.6/dist-packages (8.1.8487)\n",
            "Requirement already satisfied: absl-py>=0.11 in /usr/local/lib/python3.6/dist-packages (from ortools) (0.11.0)\n",
            "Requirement already satisfied: protobuf>=3.14.0 in /usr/local/lib/python3.6/dist-packages (from ortools) (3.14.0)\n",
            "Requirement already satisfied: six in /usr/local/lib/python3.6/dist-packages (from absl-py>=0.11->ortools) (1.15.0)\n"
          ],
          "name": "stdout"
        }
      ]
    },
    {
      "cell_type": "code",
      "metadata": {
        "id": "M5y4icfJ58Sr"
      },
      "source": [
        "order_sku_df = pd.read_excel('/content/sample_data/Order Info.xlsx')\r\n",
        "sku_dimenssion_df = pd.read_excel('/content/sample_data/Sku.xlsx')"
      ],
      "execution_count": null,
      "outputs": []
    },
    {
      "cell_type": "code",
      "metadata": {
        "colab": {
          "base_uri": "https://localhost:8080/"
        },
        "id": "gJMz_wLf67Hm",
        "outputId": "dfa31058-65dd-4f00-bc99-9afcea391cd8"
      },
      "source": [
        "df = order_sku_df.copy()\r\n",
        "df = df.merge(sku_dimenssion_df, how='left', on='SKU_ID')\r\n",
        "df['Volume']=np.round(df['Volume']*1000,0).astype('int')\r\n",
        "df.sort_values('Order_No',inplace=True)\r\n",
        "df.head(5)"
      ],
      "execution_count": null,
      "outputs": [
        {
          "output_type": "execute_result",
          "data": {
            "text/html": [
              "<div>\n",
              "<style scoped>\n",
              "    .dataframe tbody tr th:only-of-type {\n",
              "        vertical-align: middle;\n",
              "    }\n",
              "\n",
              "    .dataframe tbody tr th {\n",
              "        vertical-align: top;\n",
              "    }\n",
              "\n",
              "    .dataframe thead th {\n",
              "        text-align: right;\n",
              "    }\n",
              "</style>\n",
              "<table border=\"1\" class=\"dataframe\">\n",
              "  <thead>\n",
              "    <tr style=\"text-align: right;\">\n",
              "      <th></th>\n",
              "      <th>Order_No</th>\n",
              "      <th>SKU_ID</th>\n",
              "      <th>Quantity</th>\n",
              "      <th>Priority_Value</th>\n",
              "      <th>Length</th>\n",
              "      <th>Width</th>\n",
              "      <th>Height</th>\n",
              "      <th>Volume</th>\n",
              "    </tr>\n",
              "  </thead>\n",
              "  <tbody>\n",
              "    <tr>\n",
              "      <th>149</th>\n",
              "      <td>1</td>\n",
              "      <td>190</td>\n",
              "      <td>50</td>\n",
              "      <td>66</td>\n",
              "      <td>1.0</td>\n",
              "      <td>0.4</td>\n",
              "      <td>0.3</td>\n",
              "      <td>120</td>\n",
              "    </tr>\n",
              "    <tr>\n",
              "      <th>453</th>\n",
              "      <td>1</td>\n",
              "      <td>73</td>\n",
              "      <td>29</td>\n",
              "      <td>58</td>\n",
              "      <td>1.0</td>\n",
              "      <td>0.3</td>\n",
              "      <td>0.6</td>\n",
              "      <td>180</td>\n",
              "    </tr>\n",
              "    <tr>\n",
              "      <th>24</th>\n",
              "      <td>1</td>\n",
              "      <td>126</td>\n",
              "      <td>17</td>\n",
              "      <td>86</td>\n",
              "      <td>1.3</td>\n",
              "      <td>0.9</td>\n",
              "      <td>0.4</td>\n",
              "      <td>468</td>\n",
              "    </tr>\n",
              "    <tr>\n",
              "      <th>43</th>\n",
              "      <td>1</td>\n",
              "      <td>414</td>\n",
              "      <td>22</td>\n",
              "      <td>13</td>\n",
              "      <td>0.6</td>\n",
              "      <td>0.3</td>\n",
              "      <td>0.6</td>\n",
              "      <td>108</td>\n",
              "    </tr>\n",
              "    <tr>\n",
              "      <th>81</th>\n",
              "      <td>1</td>\n",
              "      <td>198</td>\n",
              "      <td>47</td>\n",
              "      <td>70</td>\n",
              "      <td>0.3</td>\n",
              "      <td>0.4</td>\n",
              "      <td>0.5</td>\n",
              "      <td>60</td>\n",
              "    </tr>\n",
              "  </tbody>\n",
              "</table>\n",
              "</div>"
            ],
            "text/plain": [
              "     Order_No  SKU_ID  Quantity  Priority_Value  Length  Width  Height  Volume\n",
              "149         1     190        50              66     1.0    0.4     0.3     120\n",
              "453         1      73        29              58     1.0    0.3     0.6     180\n",
              "24          1     126        17              86     1.3    0.9     0.4     468\n",
              "43          1     414        22              13     0.6    0.3     0.6     108\n",
              "81          1     198        47              70     0.3    0.4     0.5      60"
            ]
          },
          "metadata": {
            "tags": []
          },
          "execution_count": 51
        }
      ]
    },
    {
      "cell_type": "code",
      "metadata": {
        "colab": {
          "base_uri": "https://localhost:8080/"
        },
        "id": "79Q8c3hpDtcM",
        "outputId": "942fd330-631c-47bd-e410-83eeed0bdee2"
      },
      "source": [
        "np.sum((df['Volume']*df['Quantity']))\r\n"
      ],
      "execution_count": null,
      "outputs": [
        {
          "output_type": "execute_result",
          "data": {
            "text/plain": [
              "3029269"
            ]
          },
          "metadata": {
            "tags": []
          },
          "execution_count": 52
        }
      ]
    },
    {
      "cell_type": "code",
      "metadata": {
        "colab": {
          "base_uri": "https://localhost:8080/"
        },
        "id": "nEoRw6cqeaU9",
        "outputId": "c2146fd3-413c-42df-a54d-760982706f74"
      },
      "source": [
        "df['Total_Volume']=df['Volume']*df['Quantity']\r\n",
        "grouped=df.drop(columns=['Length','Width','Height','SKU_ID','Volume','Quantity'],axis=0).groupby('Order_No').sum()\r\n",
        "grouped"
      ],
      "execution_count": null,
      "outputs": [
        {
          "output_type": "execute_result",
          "data": {
            "text/html": [
              "<div>\n",
              "<style scoped>\n",
              "    .dataframe tbody tr th:only-of-type {\n",
              "        vertical-align: middle;\n",
              "    }\n",
              "\n",
              "    .dataframe tbody tr th {\n",
              "        vertical-align: top;\n",
              "    }\n",
              "\n",
              "    .dataframe thead th {\n",
              "        text-align: right;\n",
              "    }\n",
              "</style>\n",
              "<table border=\"1\" class=\"dataframe\">\n",
              "  <thead>\n",
              "    <tr style=\"text-align: right;\">\n",
              "      <th></th>\n",
              "      <th>Priority_Value</th>\n",
              "      <th>Total_Volume</th>\n",
              "    </tr>\n",
              "    <tr>\n",
              "      <th>Order_No</th>\n",
              "      <th></th>\n",
              "      <th></th>\n",
              "    </tr>\n",
              "  </thead>\n",
              "  <tbody>\n",
              "    <tr>\n",
              "      <th>1</th>\n",
              "      <td>382</td>\n",
              "      <td>27804</td>\n",
              "    </tr>\n",
              "    <tr>\n",
              "      <th>2</th>\n",
              "      <td>487</td>\n",
              "      <td>47794</td>\n",
              "    </tr>\n",
              "    <tr>\n",
              "      <th>3</th>\n",
              "      <td>207</td>\n",
              "      <td>30268</td>\n",
              "    </tr>\n",
              "    <tr>\n",
              "      <th>4</th>\n",
              "      <td>229</td>\n",
              "      <td>23490</td>\n",
              "    </tr>\n",
              "    <tr>\n",
              "      <th>5</th>\n",
              "      <td>425</td>\n",
              "      <td>49442</td>\n",
              "    </tr>\n",
              "    <tr>\n",
              "      <th>...</th>\n",
              "      <td>...</td>\n",
              "      <td>...</td>\n",
              "    </tr>\n",
              "    <tr>\n",
              "      <th>96</th>\n",
              "      <td>333</td>\n",
              "      <td>39315</td>\n",
              "    </tr>\n",
              "    <tr>\n",
              "      <th>97</th>\n",
              "      <td>307</td>\n",
              "      <td>29981</td>\n",
              "    </tr>\n",
              "    <tr>\n",
              "      <th>98</th>\n",
              "      <td>82</td>\n",
              "      <td>12264</td>\n",
              "    </tr>\n",
              "    <tr>\n",
              "      <th>99</th>\n",
              "      <td>86</td>\n",
              "      <td>6307</td>\n",
              "    </tr>\n",
              "    <tr>\n",
              "      <th>100</th>\n",
              "      <td>259</td>\n",
              "      <td>34929</td>\n",
              "    </tr>\n",
              "  </tbody>\n",
              "</table>\n",
              "<p>100 rows × 2 columns</p>\n",
              "</div>"
            ],
            "text/plain": [
              "          Priority_Value  Total_Volume\n",
              "Order_No                              \n",
              "1                    382         27804\n",
              "2                    487         47794\n",
              "3                    207         30268\n",
              "4                    229         23490\n",
              "5                    425         49442\n",
              "...                  ...           ...\n",
              "96                   333         39315\n",
              "97                   307         29981\n",
              "98                    82         12264\n",
              "99                    86          6307\n",
              "100                  259         34929\n",
              "\n",
              "[100 rows x 2 columns]"
            ]
          },
          "metadata": {
            "tags": []
          },
          "execution_count": 53
        }
      ]
    },
    {
      "cell_type": "code",
      "metadata": {
        "id": "IUQPxvIuG6Hh"
      },
      "source": [
        "from ortools.algorithms import pywrapknapsack_solver\r\n",
        "\r\n",
        "def solved(values,weights,capacities):\r\n",
        "    # Create the solver.\r\n",
        "    solver = pywrapknapsack_solver.KnapsackSolver(\r\n",
        "        pywrapknapsack_solver.KnapsackSolver.\r\n",
        "        KNAPSACK_MULTIDIMENSION_BRANCH_AND_BOUND_SOLVER, 'KnapsackExample2')\r\n",
        "    solver.Init(values, weights, capacities)\r\n",
        "    computed_value = solver.Solve()\r\n",
        "\r\n",
        "    packed_items = []\r\n",
        "    packed_weights = []\r\n",
        "    total_weight = 0\r\n",
        "    print('Total value =', computed_value)\r\n",
        "    for i in range(len(values)):\r\n",
        "        if solver.BestSolutionContains(i):\r\n",
        "            packed_items.append(i)\r\n",
        "            packed_weights.append(weights[0][i])\r\n",
        "            total_weight += weights[0][i]\r\n",
        "    print('Total weight:', total_weight)\r\n",
        "    print('Packed items:', packed_items)\r\n",
        "    print('Packed_weights:', packed_weights)\r\n",
        "    return(packed_items)\r\n",
        "\r\n"
      ],
      "execution_count": null,
      "outputs": []
    },
    {
      "cell_type": "code",
      "metadata": {
        "id": "dzAeyLu6HE7m"
      },
      "source": [
        "values = df['Priority_Value'].tolist()\r\n",
        "weights = [(df['Total_Volume']).tolist()]\r\n",
        "capacities = [70000]"
      ],
      "execution_count": null,
      "outputs": []
    },
    {
      "cell_type": "code",
      "metadata": {
        "colab": {
          "base_uri": "https://localhost:8080/"
        },
        "id": "Veuu9RCnHIcG",
        "outputId": "be521973-789f-4939-ffd9-b4847039600e"
      },
      "source": [
        "packed_items=solved(values,weights,capacities)"
      ],
      "execution_count": null,
      "outputs": [
        {
          "output_type": "stream",
          "text": [
            "Total value = 5444\n",
            "Total weight: 69972\n",
            "Packed items: [7, 16, 19, 23, 32, 34, 35, 40, 50, 55, 61, 65, 74, 76, 78, 95, 96, 99, 101, 109, 110, 111, 120, 125, 147, 153, 154, 170, 174, 179, 182, 185, 187, 190, 197, 200, 209, 216, 218, 223, 249, 251, 255, 259, 263, 270, 272, 279, 286, 311, 315, 328, 332, 336, 347, 350, 354, 361, 363, 365, 368, 383, 386, 392, 420, 422, 432, 440, 447, 449, 451, 452, 456, 481, 482, 485, 486, 491, 496]\n",
            "Packed_weights: [1600, 720, 1134, 896, 1080, 360, 1566, 1425, 936, 168, 882, 1323, 576, 1680, 420, 630, 336, 864, 480, 630, 126, 2205, 546, 2340, 1560, 750, 275, 1404, 480, 1020, 1188, 588, 1200, 480, 1512, 240, 720, 360, 896, 270, 648, 1296, 2205, 270, 504, 640, 972, 1760, 513, 1680, 1440, 540, 1152, 960, 672, 1008, 640, 1728, 315, 945, 700, 1365, 936, 1296, 270, 168, 720, 225, 720, 270, 360, 540, 1980, 750, 1080, 1395, 336, 882, 225]\n"
          ],
          "name": "stdout"
        }
      ]
    },
    {
      "cell_type": "code",
      "metadata": {
        "id": "ssYdZZrAFiyo"
      },
      "source": [
        "df2=df.iloc[packed_items]"
      ],
      "execution_count": null,
      "outputs": []
    },
    {
      "cell_type": "code",
      "metadata": {
        "colab": {
          "base_uri": "https://localhost:8080/"
        },
        "id": "cjLZWQfMSLCj",
        "outputId": "e5063325-c38e-4ade-987c-dcb9ec846d3e"
      },
      "source": [
        "df2.head()\r\n"
      ],
      "execution_count": null,
      "outputs": [
        {
          "output_type": "execute_result",
          "data": {
            "text/html": [
              "<div>\n",
              "<style scoped>\n",
              "    .dataframe tbody tr th:only-of-type {\n",
              "        vertical-align: middle;\n",
              "    }\n",
              "\n",
              "    .dataframe tbody tr th {\n",
              "        vertical-align: top;\n",
              "    }\n",
              "\n",
              "    .dataframe thead th {\n",
              "        text-align: right;\n",
              "    }\n",
              "</style>\n",
              "<table border=\"1\" class=\"dataframe\">\n",
              "  <thead>\n",
              "    <tr style=\"text-align: right;\">\n",
              "      <th></th>\n",
              "      <th>Order_No</th>\n",
              "      <th>SKU_ID</th>\n",
              "      <th>Quantity</th>\n",
              "      <th>Priority_Value</th>\n",
              "      <th>Length</th>\n",
              "      <th>Width</th>\n",
              "      <th>Height</th>\n",
              "      <th>Volume</th>\n",
              "      <th>Total_Volume</th>\n",
              "    </tr>\n",
              "  </thead>\n",
              "  <tbody>\n",
              "    <tr>\n",
              "      <th>146</th>\n",
              "      <td>2</td>\n",
              "      <td>67</td>\n",
              "      <td>16</td>\n",
              "      <td>97</td>\n",
              "      <td>0.4</td>\n",
              "      <td>0.5</td>\n",
              "      <td>0.5</td>\n",
              "      <td>100</td>\n",
              "      <td>1600</td>\n",
              "    </tr>\n",
              "    <tr>\n",
              "      <th>200</th>\n",
              "      <td>3</td>\n",
              "      <td>28</td>\n",
              "      <td>3</td>\n",
              "      <td>55</td>\n",
              "      <td>1.0</td>\n",
              "      <td>0.8</td>\n",
              "      <td>0.3</td>\n",
              "      <td>240</td>\n",
              "      <td>720</td>\n",
              "    </tr>\n",
              "    <tr>\n",
              "      <th>245</th>\n",
              "      <td>4</td>\n",
              "      <td>412</td>\n",
              "      <td>9</td>\n",
              "      <td>84</td>\n",
              "      <td>1.4</td>\n",
              "      <td>0.3</td>\n",
              "      <td>0.3</td>\n",
              "      <td>126</td>\n",
              "      <td>1134</td>\n",
              "    </tr>\n",
              "    <tr>\n",
              "      <th>400</th>\n",
              "      <td>5</td>\n",
              "      <td>240</td>\n",
              "      <td>7</td>\n",
              "      <td>41</td>\n",
              "      <td>0.4</td>\n",
              "      <td>0.8</td>\n",
              "      <td>0.4</td>\n",
              "      <td>128</td>\n",
              "      <td>896</td>\n",
              "    </tr>\n",
              "    <tr>\n",
              "      <th>271</th>\n",
              "      <td>5</td>\n",
              "      <td>57</td>\n",
              "      <td>40</td>\n",
              "      <td>60</td>\n",
              "      <td>0.3</td>\n",
              "      <td>0.3</td>\n",
              "      <td>0.3</td>\n",
              "      <td>27</td>\n",
              "      <td>1080</td>\n",
              "    </tr>\n",
              "  </tbody>\n",
              "</table>\n",
              "</div>"
            ],
            "text/plain": [
              "     Order_No  SKU_ID  Quantity  ...  Height  Volume  Total_Volume\n",
              "146         2      67        16  ...     0.5     100          1600\n",
              "200         3      28         3  ...     0.3     240           720\n",
              "245         4     412         9  ...     0.3     126          1134\n",
              "400         5     240         7  ...     0.4     128           896\n",
              "271         5      57        40  ...     0.3      27          1080\n",
              "\n",
              "[5 rows x 9 columns]"
            ]
          },
          "metadata": {
            "tags": []
          },
          "execution_count": 58
        }
      ]
    },
    {
      "cell_type": "code",
      "metadata": {
        "colab": {
          "base_uri": "https://localhost:8080/"
        },
        "id": "zSO0DRdPNFDU",
        "outputId": "a37310e0-f5f1-40e5-d691-4031290d0e9c"
      },
      "source": [
        "df3=df2.copy()\r\n",
        "df3.loc[:,'Order_No']=df3['Order_No'].astype('int')\r\n",
        "df3.loc[:,'SKU_ID']=df3['SKU_ID'].astype('string')\r\n",
        "df3.loc[:,'Quantity']=df3['Quantity'].astype('int')\r\n",
        "df3.drop('Volume',axis=1)"
      ],
      "execution_count": null,
      "outputs": [
        {
          "output_type": "execute_result",
          "data": {
            "text/html": [
              "<div>\n",
              "<style scoped>\n",
              "    .dataframe tbody tr th:only-of-type {\n",
              "        vertical-align: middle;\n",
              "    }\n",
              "\n",
              "    .dataframe tbody tr th {\n",
              "        vertical-align: top;\n",
              "    }\n",
              "\n",
              "    .dataframe thead th {\n",
              "        text-align: right;\n",
              "    }\n",
              "</style>\n",
              "<table border=\"1\" class=\"dataframe\">\n",
              "  <thead>\n",
              "    <tr style=\"text-align: right;\">\n",
              "      <th></th>\n",
              "      <th>Order_No</th>\n",
              "      <th>SKU_ID</th>\n",
              "      <th>Quantity</th>\n",
              "      <th>Priority_Value</th>\n",
              "      <th>Length</th>\n",
              "      <th>Width</th>\n",
              "      <th>Height</th>\n",
              "      <th>Total_Volume</th>\n",
              "    </tr>\n",
              "  </thead>\n",
              "  <tbody>\n",
              "    <tr>\n",
              "      <th>146</th>\n",
              "      <td>2</td>\n",
              "      <td>67</td>\n",
              "      <td>16</td>\n",
              "      <td>97</td>\n",
              "      <td>0.4</td>\n",
              "      <td>0.5</td>\n",
              "      <td>0.5</td>\n",
              "      <td>1600</td>\n",
              "    </tr>\n",
              "    <tr>\n",
              "      <th>200</th>\n",
              "      <td>3</td>\n",
              "      <td>28</td>\n",
              "      <td>3</td>\n",
              "      <td>55</td>\n",
              "      <td>1.0</td>\n",
              "      <td>0.8</td>\n",
              "      <td>0.3</td>\n",
              "      <td>720</td>\n",
              "    </tr>\n",
              "    <tr>\n",
              "      <th>245</th>\n",
              "      <td>4</td>\n",
              "      <td>412</td>\n",
              "      <td>9</td>\n",
              "      <td>84</td>\n",
              "      <td>1.4</td>\n",
              "      <td>0.3</td>\n",
              "      <td>0.3</td>\n",
              "      <td>1134</td>\n",
              "    </tr>\n",
              "    <tr>\n",
              "      <th>400</th>\n",
              "      <td>5</td>\n",
              "      <td>240</td>\n",
              "      <td>7</td>\n",
              "      <td>41</td>\n",
              "      <td>0.4</td>\n",
              "      <td>0.8</td>\n",
              "      <td>0.4</td>\n",
              "      <td>896</td>\n",
              "    </tr>\n",
              "    <tr>\n",
              "      <th>271</th>\n",
              "      <td>5</td>\n",
              "      <td>57</td>\n",
              "      <td>40</td>\n",
              "      <td>60</td>\n",
              "      <td>0.3</td>\n",
              "      <td>0.3</td>\n",
              "      <td>0.3</td>\n",
              "      <td>1080</td>\n",
              "    </tr>\n",
              "    <tr>\n",
              "      <th>...</th>\n",
              "      <td>...</td>\n",
              "      <td>...</td>\n",
              "      <td>...</td>\n",
              "      <td>...</td>\n",
              "      <td>...</td>\n",
              "      <td>...</td>\n",
              "      <td>...</td>\n",
              "      <td>...</td>\n",
              "    </tr>\n",
              "    <tr>\n",
              "      <th>304</th>\n",
              "      <td>97</td>\n",
              "      <td>369</td>\n",
              "      <td>9</td>\n",
              "      <td>91</td>\n",
              "      <td>0.5</td>\n",
              "      <td>0.8</td>\n",
              "      <td>0.3</td>\n",
              "      <td>1080</td>\n",
              "    </tr>\n",
              "    <tr>\n",
              "      <th>383</th>\n",
              "      <td>97</td>\n",
              "      <td>448</td>\n",
              "      <td>31</td>\n",
              "      <td>95</td>\n",
              "      <td>0.3</td>\n",
              "      <td>0.5</td>\n",
              "      <td>0.3</td>\n",
              "      <td>1395</td>\n",
              "    </tr>\n",
              "    <tr>\n",
              "      <th>217</th>\n",
              "      <td>97</td>\n",
              "      <td>295</td>\n",
              "      <td>7</td>\n",
              "      <td>23</td>\n",
              "      <td>0.4</td>\n",
              "      <td>0.4</td>\n",
              "      <td>0.3</td>\n",
              "      <td>336</td>\n",
              "    </tr>\n",
              "    <tr>\n",
              "      <th>325</th>\n",
              "      <td>99</td>\n",
              "      <td>97</td>\n",
              "      <td>6</td>\n",
              "      <td>56</td>\n",
              "      <td>0.7</td>\n",
              "      <td>0.7</td>\n",
              "      <td>0.3</td>\n",
              "      <td>882</td>\n",
              "    </tr>\n",
              "    <tr>\n",
              "      <th>382</th>\n",
              "      <td>100</td>\n",
              "      <td>471</td>\n",
              "      <td>5</td>\n",
              "      <td>97</td>\n",
              "      <td>0.3</td>\n",
              "      <td>0.5</td>\n",
              "      <td>0.3</td>\n",
              "      <td>225</td>\n",
              "    </tr>\n",
              "  </tbody>\n",
              "</table>\n",
              "<p>79 rows × 8 columns</p>\n",
              "</div>"
            ],
            "text/plain": [
              "     Order_No SKU_ID  Quantity  ...  Width  Height  Total_Volume\n",
              "146         2     67        16  ...    0.5     0.5          1600\n",
              "200         3     28         3  ...    0.8     0.3           720\n",
              "245         4    412         9  ...    0.3     0.3          1134\n",
              "400         5    240         7  ...    0.8     0.4           896\n",
              "271         5     57        40  ...    0.3     0.3          1080\n",
              "..        ...    ...       ...  ...    ...     ...           ...\n",
              "304        97    369         9  ...    0.8     0.3          1080\n",
              "383        97    448        31  ...    0.5     0.3          1395\n",
              "217        97    295         7  ...    0.4     0.3           336\n",
              "325        99     97         6  ...    0.7     0.3           882\n",
              "382       100    471         5  ...    0.5     0.3           225\n",
              "\n",
              "[79 rows x 8 columns]"
            ]
          },
          "metadata": {
            "tags": []
          },
          "execution_count": 59
        }
      ]
    },
    {
      "cell_type": "code",
      "metadata": {
        "id": "u_NDkm5UyqTS"
      },
      "source": [
        "packerX = Packer()\r\n",
        "my_bin = Bin('40ft container',12.025,2.280,2.352,1)\r\n",
        "packerX.add_bin(my_bin)\r\n",
        "for _, row in df3.iterrows():\r\n",
        "    for _ in range(row['Quantity']):\r\n",
        "              packerX.add_item(Item(row['SKU_ID'], row['Length'], row['Width'], row['Height'], 0))\r\n",
        "packerX.pack()\r\n",
        "\r\n"
      ],
      "execution_count": null,
      "outputs": []
    },
    {
      "cell_type": "code",
      "metadata": {
        "colab": {
          "base_uri": "https://localhost:8080/"
        },
        "id": "fLnqCdfa21vS",
        "outputId": "af9568fc-9c8d-4077-b637-fe5ddfc7a522"
      },
      "source": [
        "import regex as re\r\n",
        "fitted_ordNo=[]\r\n",
        "fitted_weights=[]\r\n",
        "fitted_rotations=[]\r\n",
        "fitted_positions=[]\r\n",
        "fitted_volumes=[]\r\n",
        "unfitted_ordNo=[]\r\n",
        "unfitted_weights=[]\r\n",
        "unfitted_rotations=[]\r\n",
        "unfitted_positions=[]\r\n",
        "unfitted_volumes=[]\r\n",
        "for b in packerX.bins:\r\n",
        "    for item in b.items:\r\n",
        "        fitted_ordNo.append(item.string().split(\"(\")[0])\r\n",
        "    for item in b.items:\r\n",
        "        fitted_weights.append(re.findall('\\(.*?\\)',item.string())[0])\r\n",
        "    for item in b.items:\r\n",
        "        fitted_positions.append(re.findall('\\[.*?\\]',item.string())[0])\r\n",
        "    for item in b.items:\r\n",
        "        fitted_rotations.append(re.findall('\\(.*?\\)',item.string())[-2][re.findall('\\(.*?\\)',item.string())[-2].find(\"(\")+1:re.findall('\\(.*?\\)',item.string())[-2].find(\")\")])\r\n",
        "    for item in b.items:\r\n",
        "        fitted_volumes.append(re.findall('\\(.*?\\)',item.string())[-1][re.findall('\\(.*?\\)',item.string())[-1].find(\"(\")+1:re.findall('\\(.*?\\)',item.string())[-1].find(\")\")]) \r\n",
        "    fitted_df=pd.DataFrame({'Order_Number':fitted_ordNo,'Weight&Dim':fitted_weights,'Position':fitted_positions, 'Rotation':fitted_rotations,'Volume':fitted_volumes})\r\n",
        "    fitted_df.loc[:,'Volume']=fitted_df['Volume'].astype(float)\r\n",
        "    for item in b.unfitted_items:\r\n",
        "        unfitted_ordNo.append(item.string().split(\"(\")[0])\r\n",
        "    for item in b.unfitted_items:\r\n",
        "        unfitted_weights.append(re.findall('\\(.*?\\)',item.string())[0])\r\n",
        "    for item in b.unfitted_items:\r\n",
        "        unfitted_positions.append(re.findall('\\[.*?\\]',item.string())[0])\r\n",
        "    for item in b.unfitted_items:\r\n",
        "        unfitted_rotations.append(re.findall('\\(.*?\\)',item.string())[-2])  \r\n",
        "    for item in b.unfitted_items:\r\n",
        "        unfitted_volumes.append(re.findall('\\(.*?\\)',item.string())[-1])  \r\n",
        "    unfitted_df=pd.DataFrame({'Order_Number':unfitted_ordNo,'Weight&Dim':unfitted_weights,'Position':unfitted_positions, 'Rotation':unfitted_rotations,'Volume':unfitted_volumes})\r\n",
        "    \r\n",
        "for b in packerX.bins:\r\n",
        "    print(\":::::::::::\", b.string())\r\n",
        "\r\n",
        "\r\n",
        "\r\n"
      ],
      "execution_count": null,
      "outputs": [
        {
          "output_type": "stream",
          "text": [
            "::::::::::: 40ft container(12.025x2.280x2.352, max_weight:1.000) vol(64.485)\n"
          ],
          "name": "stdout"
        }
      ]
    },
    {
      "cell_type": "code",
      "metadata": {
        "colab": {
          "base_uri": "https://localhost:8080/"
        },
        "id": "T_MmCk3mXbAy",
        "outputId": "23898ff1-f65b-410f-9bb3-4bf7689a0813"
      },
      "source": [
        "fitted_df.head(5)"
      ],
      "execution_count": null,
      "outputs": [
        {
          "output_type": "execute_result",
          "data": {
            "text/html": [
              "<div>\n",
              "<style scoped>\n",
              "    .dataframe tbody tr th:only-of-type {\n",
              "        vertical-align: middle;\n",
              "    }\n",
              "\n",
              "    .dataframe tbody tr th {\n",
              "        vertical-align: top;\n",
              "    }\n",
              "\n",
              "    .dataframe thead th {\n",
              "        text-align: right;\n",
              "    }\n",
              "</style>\n",
              "<table border=\"1\" class=\"dataframe\">\n",
              "  <thead>\n",
              "    <tr style=\"text-align: right;\">\n",
              "      <th></th>\n",
              "      <th>Order_Number</th>\n",
              "      <th>Weight&amp;Dim</th>\n",
              "      <th>Position</th>\n",
              "      <th>Rotation</th>\n",
              "      <th>Volume</th>\n",
              "    </tr>\n",
              "  </thead>\n",
              "  <tbody>\n",
              "    <tr>\n",
              "      <th>0</th>\n",
              "      <td>57</td>\n",
              "      <td>(0.300x0.300x0.300, weight: 0.000)</td>\n",
              "      <td>[0, 0, 0]</td>\n",
              "      <td>0</td>\n",
              "      <td>0.027</td>\n",
              "    </tr>\n",
              "    <tr>\n",
              "      <th>1</th>\n",
              "      <td>57</td>\n",
              "      <td>(0.300x0.300x0.300, weight: 0.000)</td>\n",
              "      <td>[Decimal('0.300'), 0, 0]</td>\n",
              "      <td>0</td>\n",
              "      <td>0.027</td>\n",
              "    </tr>\n",
              "    <tr>\n",
              "      <th>2</th>\n",
              "      <td>57</td>\n",
              "      <td>(0.300x0.300x0.300, weight: 0.000)</td>\n",
              "      <td>[Decimal('0.600'), 0, 0]</td>\n",
              "      <td>0</td>\n",
              "      <td>0.027</td>\n",
              "    </tr>\n",
              "    <tr>\n",
              "      <th>3</th>\n",
              "      <td>57</td>\n",
              "      <td>(0.300x0.300x0.300, weight: 0.000)</td>\n",
              "      <td>[Decimal('0.900'), 0, 0]</td>\n",
              "      <td>0</td>\n",
              "      <td>0.027</td>\n",
              "    </tr>\n",
              "    <tr>\n",
              "      <th>4</th>\n",
              "      <td>57</td>\n",
              "      <td>(0.300x0.300x0.300, weight: 0.000)</td>\n",
              "      <td>[Decimal('1.200'), 0, 0]</td>\n",
              "      <td>0</td>\n",
              "      <td>0.027</td>\n",
              "    </tr>\n",
              "  </tbody>\n",
              "</table>\n",
              "</div>"
            ],
            "text/plain": [
              "  Order_Number                          Weight&Dim  ... Rotation Volume\n",
              "0           57  (0.300x0.300x0.300, weight: 0.000)  ...        0  0.027\n",
              "1           57  (0.300x0.300x0.300, weight: 0.000)  ...        0  0.027\n",
              "2           57  (0.300x0.300x0.300, weight: 0.000)  ...        0  0.027\n",
              "3           57  (0.300x0.300x0.300, weight: 0.000)  ...        0  0.027\n",
              "4           57  (0.300x0.300x0.300, weight: 0.000)  ...        0  0.027\n",
              "\n",
              "[5 rows x 5 columns]"
            ]
          },
          "metadata": {
            "tags": []
          },
          "execution_count": 62
        }
      ]
    },
    {
      "cell_type": "code",
      "metadata": {
        "colab": {
          "base_uri": "https://localhost:8080/"
        },
        "id": "FDiaODDMxe4-",
        "outputId": "d667eec0-8913-494c-b2c8-7788ca5eadfe"
      },
      "source": [
        "#Still work to go as the total loadable volume is quite low, but the best possible out of the mix of boxes. \r\n",
        "#Try increasing the knapsack volume and see if giving more flexibility to step 2 in terms of possible options will increase utilisation to acceptable levels.\r\n",
        "#Running the notebook a few times with different knapsack volumes to see roughly where I can hit max utilisation with smallest subset\r\n",
        "#of optimal items\r\n",
        "fitted_df['Volume'].sum()"
      ],
      "execution_count": null,
      "outputs": [
        {
          "output_type": "execute_result",
          "data": {
            "text/plain": [
              "47.51"
            ]
          },
          "metadata": {
            "tags": []
          },
          "execution_count": 63
        }
      ]
    },
    {
      "cell_type": "code",
      "metadata": {
        "colab": {
          "base_uri": "https://localhost:8080/"
        },
        "id": "_Abp2rv8sQhE",
        "outputId": "368fa1c2-fd19-4567-f0c6-13b0fae90768"
      },
      "source": [
        "fitted_df.info()"
      ],
      "execution_count": null,
      "outputs": [
        {
          "output_type": "stream",
          "text": [
            "<class 'pandas.core.frame.DataFrame'>\n",
            "RangeIndex: 626 entries, 0 to 625\n",
            "Data columns (total 5 columns):\n",
            " #   Column        Non-Null Count  Dtype  \n",
            "---  ------        --------------  -----  \n",
            " 0   Order_Number  626 non-null    object \n",
            " 1   Weight&Dim    626 non-null    object \n",
            " 2   Position      626 non-null    object \n",
            " 3   Rotation      626 non-null    object \n",
            " 4   Volume        626 non-null    float64\n",
            "dtypes: float64(1), object(4)\n",
            "memory usage: 24.6+ KB\n"
          ],
          "name": "stdout"
        }
      ]
    },
    {
      "cell_type": "code",
      "metadata": {
        "colab": {
          "base_uri": "https://localhost:8080/",
          "height": 198
        },
        "id": "OHZAdcJvX3aN",
        "outputId": "5b987739-d2b7-4f10-a437-dd469c2e2d00"
      },
      "source": [
        "unfitted_df.head(5)"
      ],
      "execution_count": null,
      "outputs": [
        {
          "output_type": "execute_result",
          "data": {
            "text/html": [
              "<div>\n",
              "<style scoped>\n",
              "    .dataframe tbody tr th:only-of-type {\n",
              "        vertical-align: middle;\n",
              "    }\n",
              "\n",
              "    .dataframe tbody tr th {\n",
              "        vertical-align: top;\n",
              "    }\n",
              "\n",
              "    .dataframe thead th {\n",
              "        text-align: right;\n",
              "    }\n",
              "</style>\n",
              "<table border=\"1\" class=\"dataframe\">\n",
              "  <thead>\n",
              "    <tr style=\"text-align: right;\">\n",
              "      <th></th>\n",
              "      <th>Order_Number</th>\n",
              "      <th>Weight&amp;Dim</th>\n",
              "      <th>Position</th>\n",
              "      <th>Rotation</th>\n",
              "      <th>Volume</th>\n",
              "    </tr>\n",
              "  </thead>\n",
              "  <tbody>\n",
              "    <tr>\n",
              "      <th>0</th>\n",
              "      <td>337</td>\n",
              "      <td>(0.500x0.700x0.500, weight: 0.000)</td>\n",
              "      <td>[0, 0, 0]</td>\n",
              "      <td>(5)</td>\n",
              "      <td>(0.175)</td>\n",
              "    </tr>\n",
              "    <tr>\n",
              "      <th>1</th>\n",
              "      <td>337</td>\n",
              "      <td>(0.500x0.700x0.500, weight: 0.000)</td>\n",
              "      <td>[0, 0, 0]</td>\n",
              "      <td>(5)</td>\n",
              "      <td>(0.175)</td>\n",
              "    </tr>\n",
              "    <tr>\n",
              "      <th>2</th>\n",
              "      <td>337</td>\n",
              "      <td>(0.500x0.700x0.500, weight: 0.000)</td>\n",
              "      <td>[0, 0, 0]</td>\n",
              "      <td>(5)</td>\n",
              "      <td>(0.175)</td>\n",
              "    </tr>\n",
              "    <tr>\n",
              "      <th>3</th>\n",
              "      <td>60</td>\n",
              "      <td>(0.900x0.600x0.400, weight: 0.000)</td>\n",
              "      <td>[0, 0, 0]</td>\n",
              "      <td>(5)</td>\n",
              "      <td>(0.216)</td>\n",
              "    </tr>\n",
              "    <tr>\n",
              "      <th>4</th>\n",
              "      <td>60</td>\n",
              "      <td>(0.900x0.600x0.400, weight: 0.000)</td>\n",
              "      <td>[0, 0, 0]</td>\n",
              "      <td>(5)</td>\n",
              "      <td>(0.216)</td>\n",
              "    </tr>\n",
              "  </tbody>\n",
              "</table>\n",
              "</div>"
            ],
            "text/plain": [
              "  Order_Number                          Weight&Dim   Position Rotation   Volume\n",
              "0          337  (0.500x0.700x0.500, weight: 0.000)  [0, 0, 0]      (5)  (0.175)\n",
              "1          337  (0.500x0.700x0.500, weight: 0.000)  [0, 0, 0]      (5)  (0.175)\n",
              "2          337  (0.500x0.700x0.500, weight: 0.000)  [0, 0, 0]      (5)  (0.175)\n",
              "3           60  (0.900x0.600x0.400, weight: 0.000)  [0, 0, 0]      (5)  (0.216)\n",
              "4           60  (0.900x0.600x0.400, weight: 0.000)  [0, 0, 0]      (5)  (0.216)"
            ]
          },
          "metadata": {
            "tags": []
          },
          "execution_count": 65
        }
      ]
    },
    {
      "cell_type": "code",
      "metadata": {
        "colab": {
          "base_uri": "https://localhost:8080/"
        },
        "id": "yQTRYZrbsVSb",
        "outputId": "d121e904-f92e-420b-9ba9-6ed8fd992e9d"
      },
      "source": [
        "unfitted_df.info()"
      ],
      "execution_count": null,
      "outputs": [
        {
          "output_type": "stream",
          "text": [
            "<class 'pandas.core.frame.DataFrame'>\n",
            "RangeIndex: 69 entries, 0 to 68\n",
            "Data columns (total 5 columns):\n",
            " #   Column        Non-Null Count  Dtype \n",
            "---  ------        --------------  ----- \n",
            " 0   Order_Number  69 non-null     object\n",
            " 1   Weight&Dim    69 non-null     object\n",
            " 2   Position      69 non-null     object\n",
            " 3   Rotation      69 non-null     object\n",
            " 4   Volume        69 non-null     object\n",
            "dtypes: object(5)\n",
            "memory usage: 2.8+ KB\n"
          ],
          "name": "stdout"
        }
      ]
    }
  ]
}